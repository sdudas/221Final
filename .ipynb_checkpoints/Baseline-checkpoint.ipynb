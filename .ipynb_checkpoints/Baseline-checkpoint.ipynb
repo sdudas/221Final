{
 "cells": [
  {
   "cell_type": "code",
   "execution_count": 1,
   "metadata": {},
   "outputs": [],
   "source": [
    "import pandas as pd\n",
    "\n",
    "dataset = pd.read_csv(\"data/compas-scores-two-years.csv\")\n",
    "dataset = dataset.drop(columns=[\"id\", \"name\", 'first', 'last', 'compas_screening_date', 'dob', 'age'], axis=1)\n",
    "# pd.get_dummies(dataset, columns=[\"race\"])\n",
    "cat_df = dataset.select_dtypes(include=['object']).copy().columns.tolist()\n",
    "dataset = pd.get_dummies(dataset, columns=cat_df)\n",
    "dataset = dataset.dropna(axis='columns')\n",
    "# print(dataset)\n",
    "## Baseline implementation"
   ]
  },
  {
   "cell_type": "code",
   "execution_count": 2,
   "metadata": {},
   "outputs": [
    {
     "name": "stdout",
     "output_type": "stream",
     "text": [
      "[0 1 1 ... 0 0 1]\n",
      "[[0 1 0 ... 0 0 0]\n",
      " [0 3 0 ... 0 0 0]\n",
      " [0 4 0 ... 0 0 0]\n",
      " ...\n",
      " [0 1 0 ... 0 0 0]\n",
      " [0 2 0 ... 0 0 0]\n",
      " [0 4 0 ... 0 0 0]]\n"
     ]
    }
   ],
   "source": [
    "Y = dataset.is_recid.values\n",
    "X = dataset.drop(columns=['is_recid'], axis=1).values\n",
    "categories = dataset.columns.tolist()\n",
    "print(Y)\n",
    "print(X)"
   ]
  },
  {
   "cell_type": "code",
   "execution_count": 3,
   "metadata": {},
   "outputs": [
    {
     "name": "stderr",
     "output_type": "stream",
     "text": [
      "Using TensorFlow backend.\n"
     ]
    },
    {
     "name": "stdout",
     "output_type": "stream",
     "text": [
      "WARNING:tensorflow:From /Users/sofia/Environments/pdpyflow_env/lib/python3.7/site-packages/tensorflow/python/framework/op_def_library.py:263: colocate_with (from tensorflow.python.framework.ops) is deprecated and will be removed in a future version.\n",
      "Instructions for updating:\n",
      "Colocations handled automatically by placer.\n",
      "WARNING:tensorflow:From /Users/sofia/Environments/pdpyflow_env/lib/python3.7/site-packages/tensorflow/python/ops/math_ops.py:3066: to_int32 (from tensorflow.python.ops.math_ops) is deprecated and will be removed in a future version.\n",
      "Instructions for updating:\n",
      "Use tf.cast instead.\n",
      "Epoch 1/10\n",
      "7214/7214 [==============================] - 12s 2ms/step - loss: 0.4414 - acc: 0.8090\n",
      "Epoch 2/10\n",
      "7214/7214 [==============================] - 10s 1ms/step - loss: 0.2463 - acc: 0.8966\n",
      "Epoch 3/10\n",
      "7214/7214 [==============================] - 10s 1ms/step - loss: 0.1677 - acc: 0.9293\n",
      "Epoch 4/10\n",
      "7214/7214 [==============================] - 10s 1ms/step - loss: 0.1027 - acc: 0.9730\n",
      "Epoch 5/10\n",
      "7214/7214 [==============================] - 9s 1ms/step - loss: 0.0643 - acc: 0.9922\n",
      "Epoch 6/10\n",
      "7214/7214 [==============================] - 10s 1ms/step - loss: 0.0396 - acc: 0.9978\n",
      "Epoch 7/10\n",
      "7214/7214 [==============================] - 10s 1ms/step - loss: 0.0268 - acc: 0.9997\n",
      "Epoch 8/10\n",
      "7214/7214 [==============================] - 10s 1ms/step - loss: 0.0190 - acc: 0.9997\n",
      "Epoch 9/10\n",
      "7214/7214 [==============================] - 10s 1ms/step - loss: 0.0146 - acc: 0.9999\n",
      "Epoch 10/10\n",
      "7214/7214 [==============================] - 11s 2ms/step - loss: 0.0111 - acc: 0.9999\n"
     ]
    }
   ],
   "source": [
    "import keras\n",
    "from keras.models import Sequential\n",
    "from keras.layers import Dense\n",
    "\n",
    "model = Sequential()\n",
    "model.add(Dense(12, input_dim = len(categories) - 1, activation='relu'))\n",
    "model.add(Dense(8, activation='relu'))\n",
    "model.add(Dense(1, activation='sigmoid'))\n",
    "model.compile(loss='binary_crossentropy', optimizer='adam', metrics=['accuracy'])\n",
    "history = model.fit(X, Y, epochs=10, validation_split=0.25, batch_size=100)"
   ]
  },
  {
   "cell_type": "code",
   "execution_count": null,
   "metadata": {},
   "outputs": [],
   "source": []
  }
 ],
 "metadata": {
  "kernelspec": {
   "display_name": "Python 3",
   "language": "python",
   "name": "python3"
  },
  "language_info": {
   "codemirror_mode": {
    "name": "ipython",
    "version": 3
   },
   "file_extension": ".py",
   "mimetype": "text/x-python",
   "name": "python",
   "nbconvert_exporter": "python",
   "pygments_lexer": "ipython3",
   "version": "3.7.0"
  }
 },
 "nbformat": 4,
 "nbformat_minor": 2
}
