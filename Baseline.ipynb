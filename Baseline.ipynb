{
 "cells": [
  {
   "cell_type": "code",
   "execution_count": 1,
   "metadata": {},
   "outputs": [],
   "source": [
    "import pandas as pd\n",
    "\n",
    "dataset = pd.read_csv(\"data/compas-scores-two-years.csv\")\n",
    "dataset = dataset.drop(columns=[\"id\", \"name\", 'first', 'last', 'compas_screening_date', 'dob', 'age'], axis=1)\n",
    "# pd.get_dummies(dataset, columns=[\"race\"])\n",
    "cat_df = dataset.select_dtypes(include=['object']).copy().columns.tolist()\n",
    "dataset = pd.get_dummies(dataset, columns=cat_df)\n",
    "dataset = dataset.dropna(axis='columns')\n",
    "# print(dataset)\n",
    "## Baseline implementation"
   ]
  },
  {
   "cell_type": "code",
   "execution_count": 2,
   "metadata": {},
   "outputs": [
    {
     "name": "stdout",
     "output_type": "stream",
     "text": [
      "[0 1 1 ... 0 0 1]\n",
      "[[0 1 0 ... 0 0 0]\n",
      " [0 3 0 ... 0 0 0]\n",
      " [0 4 0 ... 0 0 0]\n",
      " ...\n",
      " [0 1 0 ... 0 0 0]\n",
      " [0 2 0 ... 0 0 0]\n",
      " [0 4 0 ... 0 0 0]]\n"
     ]
    }
   ],
   "source": [
    "Y = dataset.is_recid.values\n",
    "X = dataset.drop(columns=['is_recid'], axis=1).values\n",
    "categories = dataset.columns.tolist()\n",
    "print(Y)\n",
    "print(X)"
   ]
  },
  {
   "cell_type": "code",
   "execution_count": 5,
   "metadata": {},
   "outputs": [
    {
     "name": "stdout",
     "output_type": "stream",
     "text": [
      "Train on 5410 samples, validate on 1804 samples\n",
      "Epoch 1/10\n",
      "5410/5410 [==============================] - 11s 2ms/step - loss: 1.3371 - acc: 0.6847 - val_loss: 0.5861 - val_acc: 0.8271\n",
      "Epoch 2/10\n",
      "5410/5410 [==============================] - 9s 2ms/step - loss: 0.5535 - acc: 0.8549 - val_loss: 0.5214 - val_acc: 0.8836\n",
      "Epoch 3/10\n",
      "5410/5410 [==============================] - 9s 2ms/step - loss: 0.5082 - acc: 0.8780 - val_loss: 0.4891 - val_acc: 0.8947\n",
      "Epoch 4/10\n",
      "5410/5410 [==============================] - 10s 2ms/step - loss: 0.4745 - acc: 0.8865 - val_loss: 0.4608 - val_acc: 0.8986\n",
      "Epoch 5/10\n",
      "5410/5410 [==============================] - 10s 2ms/step - loss: 0.4401 - acc: 0.8969 - val_loss: 0.4330 - val_acc: 0.9108\n",
      "Epoch 6/10\n",
      "5410/5410 [==============================] - 10s 2ms/step - loss: 0.4054 - acc: 0.9150 - val_loss: 0.4119 - val_acc: 0.8836\n",
      "Epoch 7/10\n",
      "5410/5410 [==============================] - 10s 2ms/step - loss: 0.3737 - acc: 0.9290 - val_loss: 0.3796 - val_acc: 0.9324\n",
      "Epoch 8/10\n",
      "5410/5410 [==============================] - 9s 2ms/step - loss: 0.3444 - acc: 0.9468 - val_loss: 0.3589 - val_acc: 0.9157\n",
      "Epoch 9/10\n",
      "5410/5410 [==============================] - 9s 2ms/step - loss: 0.3172 - acc: 0.9689 - val_loss: 0.3314 - val_acc: 0.9390\n",
      "Epoch 10/10\n",
      "5410/5410 [==============================] - 8s 2ms/step - loss: 0.2939 - acc: 0.9869 - val_loss: 0.3104 - val_acc: 0.9523\n"
     ]
    }
   ],
   "source": [
    "import keras\n",
    "from keras.models import Sequential\n",
    "from keras.layers import Dense\n",
    "\n",
    "model = Sequential()\n",
    "model.add(Dense(4, input_dim = len(categories) - 1, activation='relu'))\n",
    "model.add(Dense(2, activation='relu'))\n",
    "model.add(Dense(1, activation='sigmoid'))\n",
    "model.compile(loss='binary_crossentropy', optimizer='adam', metrics=['accuracy'])\n",
    "history = model.fit(X, Y, epochs=10, validation_split=0.25, batch_size=100)"
   ]
  },
  {
   "cell_type": "code",
   "execution_count": null,
   "metadata": {},
   "outputs": [],
   "source": []
  }
 ],
 "metadata": {
  "kernelspec": {
   "display_name": "Python 3",
   "language": "python",
   "name": "python3"
  },
  "language_info": {
   "codemirror_mode": {
    "name": "ipython",
    "version": 3
   },
   "file_extension": ".py",
   "mimetype": "text/x-python",
   "name": "python",
   "nbconvert_exporter": "python",
   "pygments_lexer": "ipython3",
   "version": "3.7.0"
  }
 },
 "nbformat": 4,
 "nbformat_minor": 2
}
